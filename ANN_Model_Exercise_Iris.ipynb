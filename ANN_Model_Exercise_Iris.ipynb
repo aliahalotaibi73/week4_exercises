{
  "cells": [
    {
      "cell_type": "markdown",
      "metadata": {
        "id": "view-in-github",
        "colab_type": "text"
      },
      "source": [
        "<a href=\"https://colab.research.google.com/github/aliahalotaibi73/week4_exercises/blob/main/ANN_Model_Exercise_Iris.ipynb\" target=\"_parent\"><img src=\"https://colab.research.google.com/assets/colab-badge.svg\" alt=\"Open In Colab\"/></a>"
      ]
    },
    {
      "cell_type": "markdown",
      "id": "cb8aaa37",
      "metadata": {
        "id": "cb8aaa37"
      },
      "source": [
        "# Building an ANN with the Iris Dataset\n",
        "    \n",
        "    ## Introduction\n",
        "    Artificial Neural Networks (ANNs) are a cornerstone of modern machine learning. In this lab, you will construct a simple ANN to classify iris plants into one of three species based on the length and width of their sepals and petals. This exercise will help you understand the basics of neural networks, including their architecture, activation functions, and the backpropagation algorithm for training.\n",
        "\n",
        "    ## Dataset Reference\n",
        "    The Iris dataset was introduced by the British statistician and biologist Ronald Fisher in 1936. It is widely used as a beginner's dataset for machine learning classification problems. You can access this dataset via the `sklearn.datasets` module.\n",
        "    "
      ]
    },
    {
      "cell_type": "code",
      "source": [
        "import pandas as pd\n",
        "import numpy as np\n",
        "from sklearn.datasets import load_iris\n",
        "from sklearn.model_selection import train_test_split\n",
        "from tensorflow.keras.models import Sequential\n",
        "from tensorflow.keras.layers import Dense\n",
        "from tensorflow.keras.optimizers import Adam\n",
        "from sklearn.preprocessing import OneHotEncoder, LabelEncoder, StandardScaler\n",
        "import matplotlib.pyplot as plt\n",
        "import seaborn as sns\n",
        "from sklearn.metrics import accuracy_score, precision_score, recall_score, f1_score, confusion_matrix"
      ],
      "metadata": {
        "id": "XK4n2lHU4u_I"
      },
      "id": "XK4n2lHU4u_I",
      "execution_count": 74,
      "outputs": []
    },
    {
      "cell_type": "markdown",
      "id": "9fca486d",
      "metadata": {
        "id": "9fca486d"
      },
      "source": [
        "## Part 1: Load and Explore the Data\n",
        "    ### Load the Dataset\n",
        "    **Hint**: Use `sklearn.datasets.load_iris()` to load the Iris dataset into your environment.\n",
        "\n",
        "    ### Explore the Data\n",
        "    **Hint**: Use `pandas` to examine the first few rows of the dataset and `matplotlib` or `seaborn` to visualize the feature distributions.\n",
        "    "
      ]
    },
    {
      "cell_type": "code",
      "source": [
        "df=load_iris()"
      ],
      "metadata": {
        "id": "LMSdGeSW5Dw6"
      },
      "id": "LMSdGeSW5Dw6",
      "execution_count": 75,
      "outputs": []
    },
    {
      "cell_type": "code",
      "source": [
        "X=df.data\n",
        "y=df.target"
      ],
      "metadata": {
        "id": "e_c6YllPCE76"
      },
      "id": "e_c6YllPCE76",
      "execution_count": 76,
      "outputs": []
    },
    {
      "cell_type": "code",
      "source": [
        "X_train, X_test, y_train, y_test = train_test_split(X, y, test_size=0.2, random_state=42)"
      ],
      "metadata": {
        "id": "_SUB0X-iCbR7"
      },
      "id": "_SUB0X-iCbR7",
      "execution_count": 78,
      "outputs": []
    },
    {
      "cell_type": "code",
      "source": [
        "scaler = StandardScaler()\n",
        "X_train=scaler.fit_transform(X_train)\n",
        "X_test=scaler.fit_transform(X_test)"
      ],
      "metadata": {
        "id": "Pgz87wsR6rZq"
      },
      "id": "Pgz87wsR6rZq",
      "execution_count": 79,
      "outputs": []
    },
    {
      "cell_type": "markdown",
      "id": "19dc3fd6",
      "metadata": {
        "id": "19dc3fd6"
      },
      "source": [
        "## Part 2: Prepare the Data\n",
        "    ### Split the Data into Training and Test Sets\n",
        "    **Hint**: Use `train_test_split` from `sklearn.model_selection` to divide the data into training and test sets.\n",
        "\n",
        "    ### Scale the Features\n",
        "    **Hint**: Standardize the features using `StandardScaler` from `sklearn.preprocessing`.\n",
        "    "
      ]
    },
    {
      "cell_type": "markdown",
      "id": "166c4101",
      "metadata": {
        "id": "166c4101"
      },
      "source": [
        "## Part 3: Build the ANN Model\n",
        "    ### Define the Model\n",
        "    **Hint**: Use `keras` to define a sequential model. Start with a single hidden layer with a ReLU activation function.\n",
        "\n",
        "    ### Compile the Model\n",
        "    **Hint**: Compile your model specifying an optimizer and loss function appropriate for classification.\n",
        "    "
      ]
    },
    {
      "cell_type": "code",
      "source": [
        "X_train.shape[1]"
      ],
      "metadata": {
        "colab": {
          "base_uri": "https://localhost:8080/"
        },
        "id": "2KCY9i6JGeUk",
        "outputId": "515f6b08-aab0-443a-953b-180039324f51"
      },
      "id": "2KCY9i6JGeUk",
      "execution_count": 80,
      "outputs": [
        {
          "output_type": "execute_result",
          "data": {
            "text/plain": [
              "4"
            ]
          },
          "metadata": {},
          "execution_count": 80
        }
      ]
    },
    {
      "cell_type": "code",
      "source": [
        "model = Sequential()"
      ],
      "metadata": {
        "id": "84j3C2Qi8RLv"
      },
      "id": "84j3C2Qi8RLv",
      "execution_count": 88,
      "outputs": []
    },
    {
      "cell_type": "code",
      "source": [
        "#Adding the input layer\n",
        "model.add(Dense(units=8, input_dim=X_train.shape[1],activation='relu'))"
      ],
      "metadata": {
        "id": "keKEGD8c8aIH"
      },
      "id": "keKEGD8c8aIH",
      "execution_count": 89,
      "outputs": []
    },
    {
      "cell_type": "code",
      "source": [
        "#Adding the hidden layers\n",
        "model.add(Dense(units=8, activation='relu'))"
      ],
      "metadata": {
        "id": "SdSGp6QR8nwh"
      },
      "id": "SdSGp6QR8nwh",
      "execution_count": 91,
      "outputs": []
    },
    {
      "cell_type": "code",
      "source": [
        "#Adding the output layers\n",
        "model.add(Dense(units=8, activation='sigmoid'))"
      ],
      "metadata": {
        "id": "x7RVYnas8vOu"
      },
      "id": "x7RVYnas8vOu",
      "execution_count": 92,
      "outputs": []
    },
    {
      "cell_type": "code",
      "source": [
        "#Compile the Model\n",
        "model.compile(optimizer='adam', loss='sparse_categorical_crossentropy', metrics=['accuracy'])"
      ],
      "metadata": {
        "id": "Z65pk2yl9nst"
      },
      "id": "Z65pk2yl9nst",
      "execution_count": 93,
      "outputs": []
    },
    {
      "cell_type": "markdown",
      "id": "8dd17d04",
      "metadata": {
        "id": "8dd17d04"
      },
      "source": [
        "## Part 4: Train the Model\n",
        "    ### Train the Model\n",
        "    **Hint**: Fit the model on your training data with a reasonable number of epochs.\n",
        "\n",
        "    ### Evaluate the Model\n",
        "    **Hint**: Use the test data to evaluate your model and report the accuracy.\n",
        "    "
      ]
    },
    {
      "cell_type": "code",
      "source": [
        "#Fit the model\n",
        "model.fit(X_train, y_train, batch_size=6, epochs=50, validation_split=0.2)"
      ],
      "metadata": {
        "colab": {
          "base_uri": "https://localhost:8080/"
        },
        "id": "4x3aP6bL9z2Q",
        "outputId": "51c27b3f-c7d8-47ea-a7ce-5103de01fedf"
      },
      "id": "4x3aP6bL9z2Q",
      "execution_count": 98,
      "outputs": [
        {
          "output_type": "stream",
          "name": "stdout",
          "text": [
            "Epoch 1/50\n",
            "\u001b[1m16/16\u001b[0m \u001b[32m━━━━━━━━━━━━━━━━━━━━\u001b[0m\u001b[37m\u001b[0m \u001b[1m0s\u001b[0m 9ms/step - accuracy: 0.9504 - loss: 0.1181 - val_accuracy: 0.9583 - val_loss: 0.1782\n",
            "Epoch 2/50\n",
            "\u001b[1m16/16\u001b[0m \u001b[32m━━━━━━━━━━━━━━━━━━━━\u001b[0m\u001b[37m\u001b[0m \u001b[1m0s\u001b[0m 5ms/step - accuracy: 0.9519 - loss: 0.1329 - val_accuracy: 0.9583 - val_loss: 0.1718\n",
            "Epoch 3/50\n",
            "\u001b[1m16/16\u001b[0m \u001b[32m━━━━━━━━━━━━━━━━━━━━\u001b[0m\u001b[37m\u001b[0m \u001b[1m0s\u001b[0m 4ms/step - accuracy: 0.9412 - loss: 0.1357 - val_accuracy: 0.9583 - val_loss: 0.1805\n",
            "Epoch 4/50\n",
            "\u001b[1m16/16\u001b[0m \u001b[32m━━━━━━━━━━━━━━━━━━━━\u001b[0m\u001b[37m\u001b[0m \u001b[1m0s\u001b[0m 5ms/step - accuracy: 0.9707 - loss: 0.1037 - val_accuracy: 0.9583 - val_loss: 0.1677\n",
            "Epoch 5/50\n",
            "\u001b[1m16/16\u001b[0m \u001b[32m━━━━━━━━━━━━━━━━━━━━\u001b[0m\u001b[37m\u001b[0m \u001b[1m0s\u001b[0m 4ms/step - accuracy: 0.9749 - loss: 0.0871 - val_accuracy: 0.9583 - val_loss: 0.1650\n",
            "Epoch 6/50\n",
            "\u001b[1m16/16\u001b[0m \u001b[32m━━━━━━━━━━━━━━━━━━━━\u001b[0m\u001b[37m\u001b[0m \u001b[1m0s\u001b[0m 6ms/step - accuracy: 0.9442 - loss: 0.1344 - val_accuracy: 0.9583 - val_loss: 0.1520\n",
            "Epoch 7/50\n",
            "\u001b[1m16/16\u001b[0m \u001b[32m━━━━━━━━━━━━━━━━━━━━\u001b[0m\u001b[37m\u001b[0m \u001b[1m0s\u001b[0m 4ms/step - accuracy: 0.9600 - loss: 0.1157 - val_accuracy: 0.9583 - val_loss: 0.1555\n",
            "Epoch 8/50\n",
            "\u001b[1m16/16\u001b[0m \u001b[32m━━━━━━━━━━━━━━━━━━━━\u001b[0m\u001b[37m\u001b[0m \u001b[1m0s\u001b[0m 5ms/step - accuracy: 0.9447 - loss: 0.1143 - val_accuracy: 0.9583 - val_loss: 0.1666\n",
            "Epoch 9/50\n",
            "\u001b[1m16/16\u001b[0m \u001b[32m━━━━━━━━━━━━━━━━━━━━\u001b[0m\u001b[37m\u001b[0m \u001b[1m0s\u001b[0m 5ms/step - accuracy: 0.9559 - loss: 0.1058 - val_accuracy: 0.9583 - val_loss: 0.1576\n",
            "Epoch 10/50\n",
            "\u001b[1m16/16\u001b[0m \u001b[32m━━━━━━━━━━━━━━━━━━━━\u001b[0m\u001b[37m\u001b[0m \u001b[1m0s\u001b[0m 5ms/step - accuracy: 0.9574 - loss: 0.0913 - val_accuracy: 0.9583 - val_loss: 0.1535\n",
            "Epoch 11/50\n",
            "\u001b[1m16/16\u001b[0m \u001b[32m━━━━━━━━━━━━━━━━━━━━\u001b[0m\u001b[37m\u001b[0m \u001b[1m0s\u001b[0m 4ms/step - accuracy: 0.9691 - loss: 0.0766 - val_accuracy: 0.9583 - val_loss: 0.1689\n",
            "Epoch 12/50\n",
            "\u001b[1m16/16\u001b[0m \u001b[32m━━━━━━━━━━━━━━━━━━━━\u001b[0m\u001b[37m\u001b[0m \u001b[1m0s\u001b[0m 5ms/step - accuracy: 0.9321 - loss: 0.1432 - val_accuracy: 0.9583 - val_loss: 0.1524\n",
            "Epoch 13/50\n",
            "\u001b[1m16/16\u001b[0m \u001b[32m━━━━━━━━━━━━━━━━━━━━\u001b[0m\u001b[37m\u001b[0m \u001b[1m0s\u001b[0m 5ms/step - accuracy: 0.9294 - loss: 0.1094 - val_accuracy: 0.9583 - val_loss: 0.1576\n",
            "Epoch 14/50\n",
            "\u001b[1m16/16\u001b[0m \u001b[32m━━━━━━━━━━━━━━━━━━━━\u001b[0m\u001b[37m\u001b[0m \u001b[1m0s\u001b[0m 6ms/step - accuracy: 0.9815 - loss: 0.0774 - val_accuracy: 0.9583 - val_loss: 0.1562\n",
            "Epoch 15/50\n",
            "\u001b[1m16/16\u001b[0m \u001b[32m━━━━━━━━━━━━━━━━━━━━\u001b[0m\u001b[37m\u001b[0m \u001b[1m0s\u001b[0m 4ms/step - accuracy: 0.9688 - loss: 0.0880 - val_accuracy: 0.9583 - val_loss: 0.1579\n",
            "Epoch 16/50\n",
            "\u001b[1m16/16\u001b[0m \u001b[32m━━━━━━━━━━━━━━━━━━━━\u001b[0m\u001b[37m\u001b[0m \u001b[1m0s\u001b[0m 5ms/step - accuracy: 0.9871 - loss: 0.0791 - val_accuracy: 0.9583 - val_loss: 0.1398\n",
            "Epoch 17/50\n",
            "\u001b[1m16/16\u001b[0m \u001b[32m━━━━━━━━━━━━━━━━━━━━\u001b[0m\u001b[37m\u001b[0m \u001b[1m0s\u001b[0m 5ms/step - accuracy: 0.9464 - loss: 0.1020 - val_accuracy: 0.9583 - val_loss: 0.1442\n",
            "Epoch 18/50\n",
            "\u001b[1m16/16\u001b[0m \u001b[32m━━━━━━━━━━━━━━━━━━━━\u001b[0m\u001b[37m\u001b[0m \u001b[1m0s\u001b[0m 5ms/step - accuracy: 0.9599 - loss: 0.0821 - val_accuracy: 0.9583 - val_loss: 0.1429\n",
            "Epoch 19/50\n",
            "\u001b[1m16/16\u001b[0m \u001b[32m━━━━━━━━━━━━━━━━━━━━\u001b[0m\u001b[37m\u001b[0m \u001b[1m0s\u001b[0m 5ms/step - accuracy: 0.9134 - loss: 0.1307 - val_accuracy: 0.9583 - val_loss: 0.1505\n",
            "Epoch 20/50\n",
            "\u001b[1m16/16\u001b[0m \u001b[32m━━━━━━━━━━━━━━━━━━━━\u001b[0m\u001b[37m\u001b[0m \u001b[1m0s\u001b[0m 4ms/step - accuracy: 0.9872 - loss: 0.0594 - val_accuracy: 0.9583 - val_loss: 0.1372\n",
            "Epoch 21/50\n",
            "\u001b[1m16/16\u001b[0m \u001b[32m━━━━━━━━━━━━━━━━━━━━\u001b[0m\u001b[37m\u001b[0m \u001b[1m0s\u001b[0m 5ms/step - accuracy: 0.9742 - loss: 0.0797 - val_accuracy: 0.9583 - val_loss: 0.1474\n",
            "Epoch 22/50\n",
            "\u001b[1m16/16\u001b[0m \u001b[32m━━━━━━━━━━━━━━━━━━━━\u001b[0m\u001b[37m\u001b[0m \u001b[1m0s\u001b[0m 5ms/step - accuracy: 0.9735 - loss: 0.0938 - val_accuracy: 0.9583 - val_loss: 0.1443\n",
            "Epoch 23/50\n",
            "\u001b[1m16/16\u001b[0m \u001b[32m━━━━━━━━━━━━━━━━━━━━\u001b[0m\u001b[37m\u001b[0m \u001b[1m0s\u001b[0m 4ms/step - accuracy: 0.9906 - loss: 0.0751 - val_accuracy: 0.9583 - val_loss: 0.1492\n",
            "Epoch 24/50\n",
            "\u001b[1m16/16\u001b[0m \u001b[32m━━━━━━━━━━━━━━━━━━━━\u001b[0m\u001b[37m\u001b[0m \u001b[1m0s\u001b[0m 4ms/step - accuracy: 0.9903 - loss: 0.0672 - val_accuracy: 0.9583 - val_loss: 0.1471\n",
            "Epoch 25/50\n",
            "\u001b[1m16/16\u001b[0m \u001b[32m━━━━━━━━━━━━━━━━━━━━\u001b[0m\u001b[37m\u001b[0m \u001b[1m0s\u001b[0m 5ms/step - accuracy: 0.9940 - loss: 0.0596 - val_accuracy: 0.9583 - val_loss: 0.1343\n",
            "Epoch 26/50\n",
            "\u001b[1m16/16\u001b[0m \u001b[32m━━━━━━━━━━━━━━━━━━━━\u001b[0m\u001b[37m\u001b[0m \u001b[1m0s\u001b[0m 5ms/step - accuracy: 0.9521 - loss: 0.1029 - val_accuracy: 0.9583 - val_loss: 0.1483\n",
            "Epoch 27/50\n",
            "\u001b[1m16/16\u001b[0m \u001b[32m━━━━━━━━━━━━━━━━━━━━\u001b[0m\u001b[37m\u001b[0m \u001b[1m0s\u001b[0m 4ms/step - accuracy: 0.9775 - loss: 0.0624 - val_accuracy: 0.9583 - val_loss: 0.1390\n",
            "Epoch 28/50\n",
            "\u001b[1m16/16\u001b[0m \u001b[32m━━━━━━━━━━━━━━━━━━━━\u001b[0m\u001b[37m\u001b[0m \u001b[1m0s\u001b[0m 5ms/step - accuracy: 0.9612 - loss: 0.0916 - val_accuracy: 0.9583 - val_loss: 0.1504\n",
            "Epoch 29/50\n",
            "\u001b[1m16/16\u001b[0m \u001b[32m━━━━━━━━━━━━━━━━━━━━\u001b[0m\u001b[37m\u001b[0m \u001b[1m0s\u001b[0m 6ms/step - accuracy: 0.9529 - loss: 0.0960 - val_accuracy: 0.9583 - val_loss: 0.1390\n",
            "Epoch 30/50\n",
            "\u001b[1m16/16\u001b[0m \u001b[32m━━━━━━━━━━━━━━━━━━━━\u001b[0m\u001b[37m\u001b[0m \u001b[1m0s\u001b[0m 4ms/step - accuracy: 0.9753 - loss: 0.0825 - val_accuracy: 0.9583 - val_loss: 0.1418\n",
            "Epoch 31/50\n",
            "\u001b[1m16/16\u001b[0m \u001b[32m━━━━━━━━━━━━━━━━━━━━\u001b[0m\u001b[37m\u001b[0m \u001b[1m0s\u001b[0m 6ms/step - accuracy: 0.9874 - loss: 0.0759 - val_accuracy: 0.9583 - val_loss: 0.1351\n",
            "Epoch 32/50\n",
            "\u001b[1m16/16\u001b[0m \u001b[32m━━━━━━━━━━━━━━━━━━━━\u001b[0m\u001b[37m\u001b[0m \u001b[1m0s\u001b[0m 4ms/step - accuracy: 0.9809 - loss: 0.0683 - val_accuracy: 0.9583 - val_loss: 0.1339\n",
            "Epoch 33/50\n",
            "\u001b[1m16/16\u001b[0m \u001b[32m━━━━━━━━━━━━━━━━━━━━\u001b[0m\u001b[37m\u001b[0m \u001b[1m0s\u001b[0m 4ms/step - accuracy: 0.9753 - loss: 0.0892 - val_accuracy: 0.9583 - val_loss: 0.1470\n",
            "Epoch 34/50\n",
            "\u001b[1m16/16\u001b[0m \u001b[32m━━━━━━━━━━━━━━━━━━━━\u001b[0m\u001b[37m\u001b[0m \u001b[1m0s\u001b[0m 6ms/step - accuracy: 0.9759 - loss: 0.0733 - val_accuracy: 0.9583 - val_loss: 0.1396\n",
            "Epoch 35/50\n",
            "\u001b[1m16/16\u001b[0m \u001b[32m━━━━━━━━━━━━━━━━━━━━\u001b[0m\u001b[37m\u001b[0m \u001b[1m0s\u001b[0m 5ms/step - accuracy: 0.9776 - loss: 0.0681 - val_accuracy: 0.9583 - val_loss: 0.1484\n",
            "Epoch 36/50\n",
            "\u001b[1m16/16\u001b[0m \u001b[32m━━━━━━━━━━━━━━━━━━━━\u001b[0m\u001b[37m\u001b[0m \u001b[1m0s\u001b[0m 5ms/step - accuracy: 0.9728 - loss: 0.0797 - val_accuracy: 0.9583 - val_loss: 0.1373\n",
            "Epoch 37/50\n",
            "\u001b[1m16/16\u001b[0m \u001b[32m━━━━━━━━━━━━━━━━━━━━\u001b[0m\u001b[37m\u001b[0m \u001b[1m0s\u001b[0m 6ms/step - accuracy: 0.9510 - loss: 0.0845 - val_accuracy: 0.9583 - val_loss: 0.1322\n",
            "Epoch 38/50\n",
            "\u001b[1m16/16\u001b[0m \u001b[32m━━━━━━━━━━━━━━━━━━━━\u001b[0m\u001b[37m\u001b[0m \u001b[1m0s\u001b[0m 5ms/step - accuracy: 0.9896 - loss: 0.0479 - val_accuracy: 0.9583 - val_loss: 0.1440\n",
            "Epoch 39/50\n",
            "\u001b[1m16/16\u001b[0m \u001b[32m━━━━━━━━━━━━━━━━━━━━\u001b[0m\u001b[37m\u001b[0m \u001b[1m0s\u001b[0m 4ms/step - accuracy: 0.9931 - loss: 0.0527 - val_accuracy: 0.9583 - val_loss: 0.1493\n",
            "Epoch 40/50\n",
            "\u001b[1m16/16\u001b[0m \u001b[32m━━━━━━━━━━━━━━━━━━━━\u001b[0m\u001b[37m\u001b[0m \u001b[1m0s\u001b[0m 4ms/step - accuracy: 0.9854 - loss: 0.0588 - val_accuracy: 0.9583 - val_loss: 0.1310\n",
            "Epoch 41/50\n",
            "\u001b[1m16/16\u001b[0m \u001b[32m━━━━━━━━━━━━━━━━━━━━\u001b[0m\u001b[37m\u001b[0m \u001b[1m0s\u001b[0m 5ms/step - accuracy: 0.9941 - loss: 0.0391 - val_accuracy: 0.9583 - val_loss: 0.1413\n",
            "Epoch 42/50\n",
            "\u001b[1m16/16\u001b[0m \u001b[32m━━━━━━━━━━━━━━━━━━━━\u001b[0m\u001b[37m\u001b[0m \u001b[1m0s\u001b[0m 4ms/step - accuracy: 0.9896 - loss: 0.0524 - val_accuracy: 0.9583 - val_loss: 0.1367\n",
            "Epoch 43/50\n",
            "\u001b[1m16/16\u001b[0m \u001b[32m━━━━━━━━━━━━━━━━━━━━\u001b[0m\u001b[37m\u001b[0m \u001b[1m0s\u001b[0m 4ms/step - accuracy: 0.9819 - loss: 0.0565 - val_accuracy: 0.9583 - val_loss: 0.1497\n",
            "Epoch 44/50\n",
            "\u001b[1m16/16\u001b[0m \u001b[32m━━━━━━━━━━━━━━━━━━━━\u001b[0m\u001b[37m\u001b[0m \u001b[1m0s\u001b[0m 4ms/step - accuracy: 0.9928 - loss: 0.0441 - val_accuracy: 0.9583 - val_loss: 0.1503\n",
            "Epoch 45/50\n",
            "\u001b[1m16/16\u001b[0m \u001b[32m━━━━━━━━━━━━━━━━━━━━\u001b[0m\u001b[37m\u001b[0m \u001b[1m0s\u001b[0m 6ms/step - accuracy: 0.9955 - loss: 0.0537 - val_accuracy: 0.9583 - val_loss: 0.1381\n",
            "Epoch 46/50\n",
            "\u001b[1m16/16\u001b[0m \u001b[32m━━━━━━━━━━━━━━━━━━━━\u001b[0m\u001b[37m\u001b[0m \u001b[1m0s\u001b[0m 5ms/step - accuracy: 0.9549 - loss: 0.0915 - val_accuracy: 0.9583 - val_loss: 0.1407\n",
            "Epoch 47/50\n",
            "\u001b[1m16/16\u001b[0m \u001b[32m━━━━━━━━━━━━━━━━━━━━\u001b[0m\u001b[37m\u001b[0m \u001b[1m0s\u001b[0m 5ms/step - accuracy: 0.9735 - loss: 0.0724 - val_accuracy: 0.9583 - val_loss: 0.1301\n",
            "Epoch 48/50\n",
            "\u001b[1m16/16\u001b[0m \u001b[32m━━━━━━━━━━━━━━━━━━━━\u001b[0m\u001b[37m\u001b[0m \u001b[1m0s\u001b[0m 5ms/step - accuracy: 0.9874 - loss: 0.0478 - val_accuracy: 0.9583 - val_loss: 0.1362\n",
            "Epoch 49/50\n",
            "\u001b[1m16/16\u001b[0m \u001b[32m━━━━━━━━━━━━━━━━━━━━\u001b[0m\u001b[37m\u001b[0m \u001b[1m0s\u001b[0m 6ms/step - accuracy: 0.9832 - loss: 0.0636 - val_accuracy: 0.9583 - val_loss: 0.1512\n",
            "Epoch 50/50\n",
            "\u001b[1m16/16\u001b[0m \u001b[32m━━━━━━━━━━━━━━━━━━━━\u001b[0m\u001b[37m\u001b[0m \u001b[1m0s\u001b[0m 4ms/step - accuracy: 0.9904 - loss: 0.0678 - val_accuracy: 0.9583 - val_loss: 0.1371\n"
          ]
        },
        {
          "output_type": "execute_result",
          "data": {
            "text/plain": [
              "<keras.src.callbacks.history.History at 0x7beed99b5510>"
            ]
          },
          "metadata": {},
          "execution_count": 98
        }
      ]
    },
    {
      "cell_type": "code",
      "source": [
        "model.evaluate(X_test, y_test)"
      ],
      "metadata": {
        "colab": {
          "base_uri": "https://localhost:8080/"
        },
        "id": "osu_XjRY99-H",
        "outputId": "6e3190cb-5ac5-469c-bdd9-2c1322497f4f"
      },
      "id": "osu_XjRY99-H",
      "execution_count": 99,
      "outputs": [
        {
          "output_type": "stream",
          "name": "stdout",
          "text": [
            "\u001b[1m1/1\u001b[0m \u001b[32m━━━━━━━━━━━━━━━━━━━━\u001b[0m\u001b[37m\u001b[0m \u001b[1m0s\u001b[0m 33ms/step - accuracy: 0.9333 - loss: 0.1266\n"
          ]
        },
        {
          "output_type": "execute_result",
          "data": {
            "text/plain": [
              "[0.12658855319023132, 0.9333333373069763]"
            ]
          },
          "metadata": {},
          "execution_count": 99
        }
      ]
    },
    {
      "cell_type": "markdown",
      "id": "a0f2d8bb",
      "metadata": {
        "id": "a0f2d8bb"
      },
      "source": [
        "## Part 5: Experiment and Improve\n",
        "    ### Tune the Model\n",
        "    **Hint**: Try adding more hidden layers or neurons, or use different activation functions and see if the accuracy improves.\n",
        "\n",
        "    ### Regularization and Dropout\n",
        "    **Hint**: Implement dropout or regularization techniques to improve the model's generalization.\n",
        "    "
      ]
    },
    {
      "cell_type": "markdown",
      "id": "5ab398a2",
      "metadata": {
        "id": "5ab398a2"
      },
      "source": [
        "\n",
        "## Part 4: Model Evaluation\n",
        "### Evaluate the Model\n",
        "To effectively evaluate your artificial neural network, consider the following metrics:\n",
        "- **Accuracy**: This is the fraction of predictions our model got right.\n",
        "- **Confusion Matrix**: A table used to describe the performance of a classification model on a set of test data for which the true values are known.\n",
        "- **Precision, Recall, and F1-Score**: These metrics provide more insight into the types of errors made by the classifier.\n",
        "**Hint**: Use `classification_report` and `confusion_matrix` from `sklearn.metrics` to calculate these metrics.\n",
        "\n",
        "### Visualize Model Performance\n",
        "Visualizing the learning curves (loss and accuracy over epochs) can provide insights into the training process, such as whether the model is fitting or overfitting.\n",
        "**Hint**: Use `matplotlib.pyplot` to plot training and validation loss and accuracy.\n"
      ]
    },
    {
      "cell_type": "markdown",
      "id": "ac12bf89",
      "metadata": {
        "id": "ac12bf89"
      },
      "source": [
        "## Conclusion\n",
        "    Summarize what the learner should have gained from this lab, including a better understanding of how ANNs work and how they can be applied to real-world classification problems.\n",
        "    "
      ]
    }
  ],
  "metadata": {
    "colab": {
      "provenance": [],
      "include_colab_link": true
    },
    "language_info": {
      "name": "python"
    },
    "kernelspec": {
      "name": "python3",
      "display_name": "Python 3"
    }
  },
  "nbformat": 4,
  "nbformat_minor": 5
}