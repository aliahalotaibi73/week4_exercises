{
  "cells": [
    {
      "cell_type": "markdown",
      "metadata": {
        "id": "view-in-github",
        "colab_type": "text"
      },
      "source": [
        "<a href=\"https://colab.research.google.com/github/aliahalotaibi73/week4_exercises/blob/main/Practice_Exercise_on_Convolutional_Neural_Networks_(CNN).ipynb\" target=\"_parent\"><img src=\"https://colab.research.google.com/assets/colab-badge.svg\" alt=\"Open In Colab\"/></a>"
      ]
    },
    {
      "cell_type": "markdown",
      "id": "7a07a343",
      "metadata": {
        "id": "7a07a343"
      },
      "source": [
        "# Practice Exercise on Convolutional Neural Networks (CNN)\n",
        "\n",
        "Welcome to the Practice Exercise on Convolutional Neural Networks (CNN). In this exercise, we will focus on an image classification task where the goal is to predict whether an image contains a cat or a dog. We will work with a dataset of labeled images and build, train, and evaluate a CNN model. This practice will allow you to apply your understanding of CNNs to achieve high accuracy in image classification.\n",
        "\n",
        "---\n",
        "\n",
        "## Dataset Overview\n",
        "\n",
        "### **Dataset Name:** Cats and Dogs Image Dataset\n",
        "\n",
        "### **Description:**  \n",
        "The dataset contains images of cats and dogs labeled for classification purposes. Each image belongs to one of the two classes: 'Cat' or 'Dog'. The goal is to classify the images correctly based on the content (i.e., whether the image is of a cat or a dog). The dataset is often used to test image classification models.\n",
        "\n",
        "### **Features:**\n",
        "There are two main folders which are:\n",
        "- `Cat`: Images labeled as containing a cat.\n",
        "- `Dog`: Images labeled as containing a dog.\n",
        "\n",
        "### **Target Variable:**\n",
        "- The goal is to predict whether an image contains a cat or a dog.\n"
      ]
    },
    {
      "cell_type": "markdown",
      "id": "3cb05577",
      "metadata": {
        "id": "3cb05577"
      },
      "source": [
        "## Data Loading and Preprocessing"
      ]
    },
    {
      "cell_type": "markdown",
      "id": "fa968f9e",
      "metadata": {
        "id": "fa968f9e"
      },
      "source": [
        "\n",
        "We will start by loading the dataset and preprocessing the images. This includes:\n",
        "- Resizing images .\n",
        "- Normalizing pixel values.\n",
        "\n",
        "Add more if needed!\n"
      ]
    },
    {
      "cell_type": "code",
      "execution_count": 1,
      "id": "fb0fc5ee",
      "metadata": {
        "id": "fb0fc5ee",
        "outputId": "9c8f2b57-375b-49b9-e8af-b954036e7345",
        "colab": {
          "base_uri": "https://localhost:8080/"
        }
      },
      "outputs": [
        {
          "output_type": "stream",
          "name": "stdout",
          "text": [
            "Collecting split-folders\n",
            "  Downloading split_folders-0.5.1-py3-none-any.whl.metadata (6.2 kB)\n",
            "Downloading split_folders-0.5.1-py3-none-any.whl (8.4 kB)\n",
            "Installing collected packages: split-folders\n",
            "Successfully installed split-folders-0.5.1\n"
          ]
        }
      ],
      "source": [
        "!pip install split-folders"
      ]
    },
    {
      "cell_type": "markdown",
      "id": "e2230c4b",
      "metadata": {
        "id": "e2230c4b"
      },
      "source": [
        "## Data Splitting\n",
        "In this section, we will split our dataset into three parts:\n",
        "\n",
        "* Training set (70%): This portion of the dataset is used to train the CNN model.\n",
        "* Validation set (15%): This portion is used to validate the model during training, helping us tune hyperparameters and avoid overfitting.\n",
        "* Test set (15%): This portion is used to evaluate the model after training, to check its generalization to unseen data."
      ]
    },
    {
      "cell_type": "code",
      "execution_count": null,
      "id": "82f4df4b",
      "metadata": {
        "id": "82f4df4b"
      },
      "outputs": [],
      "source": [
        "import splitfolders\n",
        "\n",
        "image_directory= 'folder path'\n",
        "splitfolders.ratio(image_directory, output=\"file path\", seed=42, ratio=(0.7,0.15,0.15), group_prefix=None, move=False)"
      ]
    },
    {
      "cell_type": "markdown",
      "id": "fc3ce960",
      "metadata": {
        "id": "fc3ce960"
      },
      "source": [
        "## Building the CNN Model"
      ]
    },
    {
      "cell_type": "markdown",
      "id": "2ca1a1cb",
      "metadata": {
        "id": "2ca1a1cb"
      },
      "source": [
        "\n",
        "Now, we will define our CNN architecture using `tensorflow.keras`. The architecture will consist of:\n",
        "- Convolutional layers followed by max-pooling layers\n",
        "- Flatten layer\n",
        "- Dense layers\n",
        "- Output layer\n"
      ]
    },
    {
      "cell_type": "code",
      "execution_count": null,
      "id": "91a5150c",
      "metadata": {
        "id": "91a5150c"
      },
      "outputs": [],
      "source": []
    },
    {
      "cell_type": "markdown",
      "id": "e0fff4b8",
      "metadata": {
        "id": "e0fff4b8"
      },
      "source": [
        "## Training the Model"
      ]
    },
    {
      "cell_type": "markdown",
      "id": "a84cb05c",
      "metadata": {
        "id": "a84cb05c"
      },
      "source": [
        "\n",
        "Train the CNN model using the `fit` function. We will use the training and validation we created earlier.\n",
        "\n",
        "Fill in the code to train the model for a specified number of epochs.\n"
      ]
    },
    {
      "cell_type": "code",
      "execution_count": null,
      "id": "0e11ddcd",
      "metadata": {
        "id": "0e11ddcd"
      },
      "outputs": [],
      "source": []
    },
    {
      "cell_type": "markdown",
      "id": "3ba878f4",
      "metadata": {
        "id": "3ba878f4"
      },
      "source": [
        "## Evaluating the Model"
      ]
    },
    {
      "cell_type": "markdown",
      "id": "d508bce7",
      "metadata": {
        "id": "d508bce7"
      },
      "source": [
        "\n",
        "After training, evaluate the model on the validation data to check its performance.\n"
      ]
    },
    {
      "cell_type": "code",
      "execution_count": null,
      "id": "5cd3a753",
      "metadata": {
        "id": "5cd3a753"
      },
      "outputs": [],
      "source": []
    },
    {
      "cell_type": "markdown",
      "id": "93e0c1b9",
      "metadata": {
        "id": "93e0c1b9"
      },
      "source": [
        "## Testing with New Images"
      ]
    },
    {
      "cell_type": "markdown",
      "id": "db94a8ae",
      "metadata": {
        "id": "db94a8ae"
      },
      "source": [
        "Finally, let's test the model with some new images. Preprocess the images and use the trained model to predict whether the image is of a cat or a dog.\n"
      ]
    },
    {
      "cell_type": "code",
      "execution_count": null,
      "id": "1cf379ec",
      "metadata": {
        "id": "1cf379ec"
      },
      "outputs": [],
      "source": []
    }
  ],
  "metadata": {
    "language_info": {
      "name": "python"
    },
    "colab": {
      "provenance": [],
      "include_colab_link": true
    },
    "kernelspec": {
      "name": "python3",
      "display_name": "Python 3"
    }
  },
  "nbformat": 4,
  "nbformat_minor": 5
}